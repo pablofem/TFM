{
  "cells": [
    {
      "cell_type": "markdown",
      "id": "213c2c44",
      "metadata": {},
      "source": [
        "# **Preparación de datos previa a proceso de modelado**"
      ]
    },
    {
      "cell_type": "markdown",
      "id": "4ddfbeaa",
      "metadata": {},
      "source": [
        "## **Librerías**"
      ]
    },
    {
      "cell_type": "code",
      "execution_count": 47,
      "id": "e75c9547",
      "metadata": {},
      "outputs": [],
      "source": [
        "from modeling_auxiliary_functions import (apply_pca,\n",
        "                                          train_model, \n",
        "                                          split_train_test_date,\n",
        "                                          prep_results_df,\n",
        "                                          plot_feature_importance,\n",
        "                                          check_gaussian_residuals\n",
        "                                 )\n",
        "from modeling_auxiliary_functions import add_total_load\n",
        "\n",
        "import warnings\n",
        "import pandas as pd\n",
        "import datetime as dt\n"
      ]
    },
    {
      "cell_type": "code",
      "execution_count": 48,
      "id": "b630dcf0",
      "metadata": {},
      "outputs": [],
      "source": [
        "pd.set_option('display.max_columns', None)\n",
        "pd.set_option('display.max_rows', 10)\n",
        "warnings.filterwarnings('ignore')"
      ]
    },
    {
      "cell_type": "markdown",
      "id": "9163d7e7",
      "metadata": {},
      "source": [
        "## **Proceso de entrenamiento y generación de predicciones**\n",
        "El proceso de entrenamiento y generación de predicciones fue desarrollado de manera tal que puede ser reutilizado de manera invariante para cualquiera de los escenarios a modelar. Este realiza los siguientes fases:\n",
        "\n",
        "**Fase 1:** Parametrización individual\n",
        "\n",
        "**Fase 2:** Separación de datos para entrenamiento y predicción\n",
        "\n",
        "**Fase 3:** Reducción de dimensionalidad con PCA\n",
        "\n",
        "**Fase 4:** Entrenamiento de múltiples modelos de ML\n",
        "\n",
        "**Fase 5:** Generación de predicciones\n",
        "\n",
        "**Fase 6:** Evaluación de residuos e importancia de variables\n",
        "<br><br><br>\n",
        "A continución procede a realizarse para los 3 escenarios a modelar."
      ]
    },
    {
      "cell_type": "markdown",
      "id": "e9a11ce5",
      "metadata": {},
      "source": [
        "---\n",
        "### **Oferta de mercado diario:** \n",
        "**Instante de predicción:** 12:00 del día R.\n",
        "\n",
        "**Horas de predicción:** De 0:00 a 24:00 del día S."
      ]
    },
    {
      "cell_type": "code",
      "execution_count": 49,
      "id": "d4e13f77",
      "metadata": {},
      "outputs": [],
      "source": [
        "### ========= FASE 1 =========\n",
        "basic_dataset_file = './modeling_datasets/basic_dataset.pkl'\n",
        "target_column = \"total_load_actual\"\n",
        "prediction_start_date = dt.datetime(2018,1,1,0)\n",
        "reduction_min_variance = 0.90\n",
        "offer_type = \"daily_market\""
      ]
    },
    {
      "cell_type": "code",
      "execution_count": 50,
      "id": "45154023",
      "metadata": {},
      "outputs": [],
      "source": [
        "### ========= FASE 2 =========\n",
        "predictor_dataset_file = f'./modeling_datasets/{offer_type}_dataset.pkl'\n",
        "basic_dataset = pd.read_pickle(basic_dataset_file)\n",
        "predictor_dataset = pd.read_pickle(predictor_dataset_file)\n",
        "offer_dataset = add_total_load(predictor_dataset, basic_dataset)\n",
        "X_train, y_train, X_test, y_test = split_train_test_date(offer_dataset, target_column, prediction_start_date)"
      ]
    },
    {
      "cell_type": "code",
      "execution_count": 51,
      "id": "fcfac615",
      "metadata": {},
      "outputs": [
        {
          "data": {
            "text/html": [
              "<div>\n",
              "<style scoped>\n",
              "    .dataframe tbody tr th:only-of-type {\n",
              "        vertical-align: middle;\n",
              "    }\n",
              "\n",
              "    .dataframe tbody tr th {\n",
              "        vertical-align: top;\n",
              "    }\n",
              "\n",
              "    .dataframe thead th {\n",
              "        text-align: right;\n",
              "    }\n",
              "</style>\n",
              "<table border=\"1\" class=\"dataframe\">\n",
              "  <thead>\n",
              "    <tr style=\"text-align: right;\">\n",
              "      <th></th>\n",
              "      <th>components</th>\n",
              "      <th>accumulated_variance</th>\n",
              "    </tr>\n",
              "  </thead>\n",
              "  <tbody>\n",
              "    <tr>\n",
              "      <th>0</th>\n",
              "      <td>1</td>\n",
              "      <td>0.342178</td>\n",
              "    </tr>\n",
              "    <tr>\n",
              "      <th>1</th>\n",
              "      <td>2</td>\n",
              "      <td>0.619192</td>\n",
              "    </tr>\n",
              "    <tr>\n",
              "      <th>2</th>\n",
              "      <td>3</td>\n",
              "      <td>0.818391</td>\n",
              "    </tr>\n",
              "    <tr>\n",
              "      <th>3</th>\n",
              "      <td>4</td>\n",
              "      <td>0.883832</td>\n",
              "    </tr>\n",
              "    <tr>\n",
              "      <th>4</th>\n",
              "      <td>5</td>\n",
              "      <td>0.910033</td>\n",
              "    </tr>\n",
              "    <tr>\n",
              "      <th>...</th>\n",
              "      <td>...</td>\n",
              "      <td>...</td>\n",
              "    </tr>\n",
              "    <tr>\n",
              "      <th>141</th>\n",
              "      <td>142</td>\n",
              "      <td>1.000000</td>\n",
              "    </tr>\n",
              "    <tr>\n",
              "      <th>142</th>\n",
              "      <td>143</td>\n",
              "      <td>1.000000</td>\n",
              "    </tr>\n",
              "    <tr>\n",
              "      <th>143</th>\n",
              "      <td>144</td>\n",
              "      <td>1.000000</td>\n",
              "    </tr>\n",
              "    <tr>\n",
              "      <th>144</th>\n",
              "      <td>145</td>\n",
              "      <td>1.000000</td>\n",
              "    </tr>\n",
              "    <tr>\n",
              "      <th>145</th>\n",
              "      <td>146</td>\n",
              "      <td>1.000000</td>\n",
              "    </tr>\n",
              "  </tbody>\n",
              "</table>\n",
              "<p>146 rows × 2 columns</p>\n",
              "</div>"
            ],
            "text/plain": [
              "     components  accumulated_variance\n",
              "0             1              0.342178\n",
              "1             2              0.619192\n",
              "2             3              0.818391\n",
              "3             4              0.883832\n",
              "4             5              0.910033\n",
              "..          ...                   ...\n",
              "141         142              1.000000\n",
              "142         143              1.000000\n",
              "143         144              1.000000\n",
              "144         145              1.000000\n",
              "145         146              1.000000\n",
              "\n",
              "[146 rows x 2 columns]"
            ]
          },
          "execution_count": 51,
          "metadata": {},
          "output_type": "execute_result"
        }
      ],
      "source": [
        "### ========= FASE 3 =========\n",
        "pca_summary, num_components, X_train, X_test = apply_pca(reduction_min_variance, X_train, X_test)\n",
        "pca_summary"
      ]
    },
    {
      "cell_type": "code",
      "execution_count": null,
      "id": "fd24367d",
      "metadata": {},
      "outputs": [],
      "source": [
        "### ========= FASE 4 =========\n",
        "models_dic = {}\n",
        "models_dic[\"RFO\"] = train_model(X_train, y_train, \"RFO\")\n",
        "models_dic[\"XGB\"] = train_model(X_train, y_train, \"XGB\")\n",
        "models_dic[\"KNN\"] = train_model(X_train, y_train, \"KNN\")\n",
        "models_dic[\"MLP\"] = train_model(X_train, y_train, \"MLP\")"
      ]
    },
    {
      "cell_type": "code",
      "execution_count": 53,
      "id": "b3e584e5",
      "metadata": {},
      "outputs": [],
      "source": [
        "### ========= FASE 5 =========\n",
        "results_daily_market = prep_results_df(X_test, y_test, models_dic, offer_type)"
      ]
    },
    {
      "cell_type": "code",
      "execution_count": 54,
      "id": "6d667f00",
      "metadata": {},
      "outputs": [
        {
          "name": "stdout",
          "output_type": "stream",
          "text": [
            "================= ANÁLISIS DE RESIDUOS =================\n",
            "Los residuos no forman una distribución Gaussiana.\n",
            "La distribución es leptocúrtica (K=1.16)\n",
            "\n",
            "\n",
            "================= ANÁLISIS DE IMPORTANCIA DE VARIABLES =================\n"
          ]
        },
        {
          "data": {
            "image/png": "[encoded data removed]",
            "text/plain": [
              "<Figure size 600x300 with 1 Axes>"
            ]
          },
          "metadata": {},
          "output_type": "display_data"
        }
      ],
      "source": [
        "### ========= FASE 6 =========\n",
        "check_gaussian_residuals(results_daily_market, \"XGB\")\n",
        "plot_feature_importance(X_train, models_dic[\"XGB\"])"
      ]
    },
    {
      "cell_type": "markdown",
      "id": "37ebd763",
      "metadata": {},
      "source": [
        "---\n",
        "### **Oferta de tercera sesión intradiaria:** \n",
        "**Instante de predicción:** 21:50 del día R.\n",
        "\n",
        "**Horas de predicción:** De 00:00 a 24:00 del día S."
      ]
    },
    {
      "cell_type": "code",
      "execution_count": 55,
      "id": "3da3d0fc",
      "metadata": {},
      "outputs": [],
      "source": [
        "### ========= FASE 1 =========\n",
        "basic_dataset_file = './modeling_datasets/basic_dataset.pkl'\n",
        "target_column = \"total_load_actual\"\n",
        "prediction_start_date = dt.datetime(2018,1,1,0)\n",
        "reduction_min_variance = 0.90\n",
        "offer_type = \"third_session\""
      ]
    },
    {
      "cell_type": "code",
      "execution_count": 56,
      "id": "9b277f1b",
      "metadata": {},
      "outputs": [],
      "source": [
        "### ========= FASE 2 =========\n",
        "predictor_dataset_file = f'./modeling_datasets/{offer_type}_dataset.pkl'\n",
        "basic_dataset = pd.read_pickle(basic_dataset_file)\n",
        "predictor_dataset = pd.read_pickle(predictor_dataset_file)\n",
        "offer_dataset = add_total_load(predictor_dataset, basic_dataset)\n",
        "X_train, y_train, X_test, y_test = split_train_test_date(offer_dataset, target_column, prediction_start_date)"
      ]
    },
    {
      "cell_type": "code",
      "execution_count": 57,
      "id": "9faa87e7",
      "metadata": {},
      "outputs": [
        {
          "data": {
            "text/html": [
              "<div>\n",
              "<style scoped>\n",
              "    .dataframe tbody tr th:only-of-type {\n",
              "        vertical-align: middle;\n",
              "    }\n",
              "\n",
              "    .dataframe tbody tr th {\n",
              "        vertical-align: top;\n",
              "    }\n",
              "\n",
              "    .dataframe thead th {\n",
              "        text-align: right;\n",
              "    }\n",
              "</style>\n",
              "<table border=\"1\" class=\"dataframe\">\n",
              "  <thead>\n",
              "    <tr style=\"text-align: right;\">\n",
              "      <th></th>\n",
              "      <th>components</th>\n",
              "      <th>accumulated_variance</th>\n",
              "    </tr>\n",
              "  </thead>\n",
              "  <tbody>\n",
              "    <tr>\n",
              "      <th>0</th>\n",
              "      <td>1</td>\n",
              "      <td>0.400292</td>\n",
              "    </tr>\n",
              "    <tr>\n",
              "      <th>1</th>\n",
              "      <td>2</td>\n",
              "      <td>0.632791</td>\n",
              "    </tr>\n",
              "    <tr>\n",
              "      <th>2</th>\n",
              "      <td>3</td>\n",
              "      <td>0.812259</td>\n",
              "    </tr>\n",
              "    <tr>\n",
              "      <th>3</th>\n",
              "      <td>4</td>\n",
              "      <td>0.885763</td>\n",
              "    </tr>\n",
              "    <tr>\n",
              "      <th>4</th>\n",
              "      <td>5</td>\n",
              "      <td>0.914754</td>\n",
              "    </tr>\n",
              "    <tr>\n",
              "      <th>...</th>\n",
              "      <td>...</td>\n",
              "      <td>...</td>\n",
              "    </tr>\n",
              "    <tr>\n",
              "      <th>141</th>\n",
              "      <td>142</td>\n",
              "      <td>1.000000</td>\n",
              "    </tr>\n",
              "    <tr>\n",
              "      <th>142</th>\n",
              "      <td>143</td>\n",
              "      <td>1.000000</td>\n",
              "    </tr>\n",
              "    <tr>\n",
              "      <th>143</th>\n",
              "      <td>144</td>\n",
              "      <td>1.000000</td>\n",
              "    </tr>\n",
              "    <tr>\n",
              "      <th>144</th>\n",
              "      <td>145</td>\n",
              "      <td>1.000000</td>\n",
              "    </tr>\n",
              "    <tr>\n",
              "      <th>145</th>\n",
              "      <td>146</td>\n",
              "      <td>1.000000</td>\n",
              "    </tr>\n",
              "  </tbody>\n",
              "</table>\n",
              "<p>146 rows × 2 columns</p>\n",
              "</div>"
            ],
            "text/plain": [
              "     components  accumulated_variance\n",
              "0             1              0.400292\n",
              "1             2              0.632791\n",
              "2             3              0.812259\n",
              "3             4              0.885763\n",
              "4             5              0.914754\n",
              "..          ...                   ...\n",
              "141         142              1.000000\n",
              "142         143              1.000000\n",
              "143         144              1.000000\n",
              "144         145              1.000000\n",
              "145         146              1.000000\n",
              "\n",
              "[146 rows x 2 columns]"
            ]
          },
          "execution_count": 57,
          "metadata": {},
          "output_type": "execute_result"
        }
      ],
      "source": [
        "### ========= FASE 3 =========\n",
        "pca_summary, num_components, X_train, X_test = apply_pca(reduction_min_variance, X_train, X_test)\n",
        "pca_summary"
      ]
    },
    {
      "cell_type": "code",
      "execution_count": null,
      "id": "d0dded5b",
      "metadata": {},
      "outputs": [],
      "source": [
        "### ========= FASE 4 =========\n",
        "models_dic = {}\n",
        "models_dic[\"RFO\"] = train_model(X_train, y_train, \"RFO\")\n",
        "models_dic[\"XGB\"] = train_model(X_train, y_train, \"XGB\")\n",
        "models_dic[\"KNN\"] = train_model(X_train, y_train, \"KNN\")\n",
        "models_dic[\"MLP\"] = train_model(X_train, y_train, \"MLP\")"
      ]
    },
    {
      "cell_type": "code",
      "execution_count": 59,
      "id": "40564c23",
      "metadata": {},
      "outputs": [],
      "source": [
        "### ========= FASE 5 =========\n",
        "results_third_offer = prep_results_df(X_test, y_test, models_dic, offer_type)"
      ]
    },
    {
      "cell_type": "code",
      "execution_count": 60,
      "id": "e15b626c",
      "metadata": {},
      "outputs": [
        {
          "name": "stdout",
          "output_type": "stream",
          "text": [
            "================= ANÁLISIS DE RESIDUOS =================\n",
            "Los residuos no forman una distribución Gaussiana.\n",
            "La distribución es leptocúrtica (K=0.83)\n",
            "\n",
            "\n",
            "================= ANÁLISIS DE IMPORTANCIA DE VARIABLES =================\n"
          ]
        },
        {
          "data": {
            "image/png": "[encoded data removed]",
            "text/plain": [
              "<Figure size 600x300 with 1 Axes>"
            ]
          },
          "metadata": {},
          "output_type": "display_data"
        }
      ],
      "source": [
        "### ========= FASE 6 =========\n",
        "check_gaussian_residuals(results_third_offer, \"XGB\")\n",
        "plot_feature_importance(X_train, models_dic[\"XGB\"])"
      ]
    },
    {
      "cell_type": "markdown",
      "id": "3281f4fd",
      "metadata": {},
      "source": [
        "---\n",
        "### **Oferta de sexta sesión intradiaria:** \n",
        "**Instante de predicción:** 09:50 del día S.\n",
        "\n",
        "**Horas de predicción:** De 13:00 a 24:00 del día S."
      ]
    },
    {
      "cell_type": "code",
      "execution_count": 61,
      "id": "122c5cf5",
      "metadata": {},
      "outputs": [],
      "source": [
        "### ========= FASE 1 =========\n",
        "basic_dataset_file = './modeling_datasets/basic_dataset.pkl'\n",
        "target_column = \"total_load_actual\"\n",
        "prediction_start_date = dt.datetime(2018,1,1,0)\n",
        "reduction_min_variance = 0.90\n",
        "offer_type = \"sixth_session\""
      ]
    },
    {
      "cell_type": "code",
      "execution_count": 62,
      "id": "3241d232",
      "metadata": {},
      "outputs": [],
      "source": [
        "### ========= FASE 2 =========\n",
        "predictor_dataset_file = f'./modeling_datasets/{offer_type}_dataset.pkl'\n",
        "basic_dataset = pd.read_pickle(basic_dataset_file)\n",
        "predictor_dataset = pd.read_pickle(predictor_dataset_file)\n",
        "offer_dataset = add_total_load(predictor_dataset, basic_dataset)\n",
        "X_train, y_train, X_test, y_test = split_train_test_date(offer_dataset, target_column, prediction_start_date)"
      ]
    },
    {
      "cell_type": "code",
      "execution_count": 63,
      "id": "1243036c",
      "metadata": {},
      "outputs": [
        {
          "data": {
            "text/html": [
              "<div>\n",
              "<style scoped>\n",
              "    .dataframe tbody tr th:only-of-type {\n",
              "        vertical-align: middle;\n",
              "    }\n",
              "\n",
              "    .dataframe tbody tr th {\n",
              "        vertical-align: top;\n",
              "    }\n",
              "\n",
              "    .dataframe thead th {\n",
              "        text-align: right;\n",
              "    }\n",
              "</style>\n",
              "<table border=\"1\" class=\"dataframe\">\n",
              "  <thead>\n",
              "    <tr style=\"text-align: right;\">\n",
              "      <th></th>\n",
              "      <th>components</th>\n",
              "      <th>accumulated_variance</th>\n",
              "    </tr>\n",
              "  </thead>\n",
              "  <tbody>\n",
              "    <tr>\n",
              "      <th>0</th>\n",
              "      <td>1</td>\n",
              "      <td>0.389763</td>\n",
              "    </tr>\n",
              "    <tr>\n",
              "      <th>1</th>\n",
              "      <td>2</td>\n",
              "      <td>0.652244</td>\n",
              "    </tr>\n",
              "    <tr>\n",
              "      <th>2</th>\n",
              "      <td>3</td>\n",
              "      <td>0.743423</td>\n",
              "    </tr>\n",
              "    <tr>\n",
              "      <th>3</th>\n",
              "      <td>4</td>\n",
              "      <td>0.828488</td>\n",
              "    </tr>\n",
              "    <tr>\n",
              "      <th>4</th>\n",
              "      <td>5</td>\n",
              "      <td>0.863710</td>\n",
              "    </tr>\n",
              "    <tr>\n",
              "      <th>...</th>\n",
              "      <td>...</td>\n",
              "      <td>...</td>\n",
              "    </tr>\n",
              "    <tr>\n",
              "      <th>141</th>\n",
              "      <td>142</td>\n",
              "      <td>1.000000</td>\n",
              "    </tr>\n",
              "    <tr>\n",
              "      <th>142</th>\n",
              "      <td>143</td>\n",
              "      <td>1.000000</td>\n",
              "    </tr>\n",
              "    <tr>\n",
              "      <th>143</th>\n",
              "      <td>144</td>\n",
              "      <td>1.000000</td>\n",
              "    </tr>\n",
              "    <tr>\n",
              "      <th>144</th>\n",
              "      <td>145</td>\n",
              "      <td>1.000000</td>\n",
              "    </tr>\n",
              "    <tr>\n",
              "      <th>145</th>\n",
              "      <td>146</td>\n",
              "      <td>1.000000</td>\n",
              "    </tr>\n",
              "  </tbody>\n",
              "</table>\n",
              "<p>146 rows × 2 columns</p>\n",
              "</div>"
            ],
            "text/plain": [
              "     components  accumulated_variance\n",
              "0             1              0.389763\n",
              "1             2              0.652244\n",
              "2             3              0.743423\n",
              "3             4              0.828488\n",
              "4             5              0.863710\n",
              "..          ...                   ...\n",
              "141         142              1.000000\n",
              "142         143              1.000000\n",
              "143         144              1.000000\n",
              "144         145              1.000000\n",
              "145         146              1.000000\n",
              "\n",
              "[146 rows x 2 columns]"
            ]
          },
          "execution_count": 63,
          "metadata": {},
          "output_type": "execute_result"
        }
      ],
      "source": [
        "### ========= FASE 3 =========\n",
        "pca_summary, num_components, X_train, X_test = apply_pca(reduction_min_variance, X_train, X_test)\n",
        "pca_summary"
      ]
    },
    {
      "cell_type": "code",
      "execution_count": null,
      "id": "73817416",
      "metadata": {},
      "outputs": [],
      "source": [
        "### ========= FASE 4 =========\n",
        "models_dic = {}\n",
        "models_dic[\"RFO\"] = train_model(X_train, y_train, \"RFO\")\n",
        "models_dic[\"XGB\"] = train_model(X_train, y_train, \"XGB\")\n",
        "models_dic[\"KNN\"] = train_model(X_train, y_train, \"KNN\")\n",
        "models_dic[\"MLP\"] = train_model(X_train, y_train, \"MLP\")"
      ]
    },
    {
      "cell_type": "code",
      "execution_count": 65,
      "id": "a724b24d",
      "metadata": {},
      "outputs": [],
      "source": [
        "### ========= FASE 5 =========\n",
        "results_sixth_offer = prep_results_df(X_test, y_test, models_dic, offer_type)"
      ]
    },
    {
      "cell_type": "code",
      "execution_count": 66,
      "id": "f2f164d6",
      "metadata": {},
      "outputs": [
        {
          "name": "stdout",
          "output_type": "stream",
          "text": [
            "================= ANÁLISIS DE RESIDUOS =================\n",
            "Los residuos no forman una distribución Gaussiana.\n",
            "La distribución es leptocúrtica (K=0.48)\n",
            "\n",
            "\n",
            "================= ANÁLISIS DE IMPORTANCIA DE VARIABLES =================\n"
          ]
        },
        {
          "data": {
            "image/png": "[encoded data removed]",
            "text/plain": [
              "<Figure size 600x300 with 1 Axes>"
            ]
          },
          "metadata": {},
          "output_type": "display_data"
        }
      ],
      "source": [
        "### ========= FASE 6 =========\n",
        "check_gaussian_residuals(results_sixth_offer, \"XGB\")\n",
        "plot_feature_importance(X_train, models_dic[\"XGB\"])"
      ]
    },
    {
      "cell_type": "markdown",
      "id": "5a574767",
      "metadata": {},
      "source": [
        "---\n",
        "### Exportación de resultados para análisis"
      ]
    },
    {
      "cell_type": "code",
      "execution_count": 67,
      "id": "9fd6dd18",
      "metadata": {},
      "outputs": [
        {
          "data": {
            "text/html": [
              "<div>\n",
              "<style scoped>\n",
              "    .dataframe tbody tr th:only-of-type {\n",
              "        vertical-align: middle;\n",
              "    }\n",
              "\n",
              "    .dataframe tbody tr th {\n",
              "        vertical-align: top;\n",
              "    }\n",
              "\n",
              "    .dataframe thead th {\n",
              "        text-align: right;\n",
              "    }\n",
              "</style>\n",
              "<table border=\"1\" class=\"dataframe\">\n",
              "  <thead>\n",
              "    <tr style=\"text-align: right;\">\n",
              "      <th></th>\n",
              "      <th>time</th>\n",
              "      <th>total_load_actual</th>\n",
              "      <th>prediction</th>\n",
              "      <th>model</th>\n",
              "      <th>offer_type</th>\n",
              "    </tr>\n",
              "  </thead>\n",
              "  <tbody>\n",
              "    <tr>\n",
              "      <th>26232</th>\n",
              "      <td>2018-01-01 00:00:00</td>\n",
              "      <td>22779.0</td>\n",
              "      <td>24061.0</td>\n",
              "      <td>RFO</td>\n",
              "      <td>daily_market</td>\n",
              "    </tr>\n",
              "    <tr>\n",
              "      <th>26233</th>\n",
              "      <td>2018-01-01 01:00:00</td>\n",
              "      <td>22009.0</td>\n",
              "      <td>22594.0</td>\n",
              "      <td>RFO</td>\n",
              "      <td>daily_market</td>\n",
              "    </tr>\n",
              "    <tr>\n",
              "      <th>26234</th>\n",
              "      <td>2018-01-01 02:00:00</td>\n",
              "      <td>20589.0</td>\n",
              "      <td>21181.0</td>\n",
              "      <td>RFO</td>\n",
              "      <td>daily_market</td>\n",
              "    </tr>\n",
              "    <tr>\n",
              "      <th>26235</th>\n",
              "      <td>2018-01-01 03:00:00</td>\n",
              "      <td>19547.0</td>\n",
              "      <td>21181.0</td>\n",
              "      <td>RFO</td>\n",
              "      <td>daily_market</td>\n",
              "    </tr>\n",
              "    <tr>\n",
              "      <th>26236</th>\n",
              "      <td>2018-01-01 04:00:00</td>\n",
              "      <td>18871.0</td>\n",
              "      <td>21147.0</td>\n",
              "      <td>RFO</td>\n",
              "      <td>daily_market</td>\n",
              "    </tr>\n",
              "    <tr>\n",
              "      <th>...</th>\n",
              "      <td>...</td>\n",
              "      <td>...</td>\n",
              "      <td>...</td>\n",
              "      <td>...</td>\n",
              "      <td>...</td>\n",
              "    </tr>\n",
              "    <tr>\n",
              "      <th>16021</th>\n",
              "      <td>2018-12-30 19:00:00</td>\n",
              "      <td>29221.0</td>\n",
              "      <td>21697.0</td>\n",
              "      <td>MLP</td>\n",
              "      <td>sixth_session</td>\n",
              "    </tr>\n",
              "    <tr>\n",
              "      <th>16022</th>\n",
              "      <td>2018-12-30 20:00:00</td>\n",
              "      <td>30042.0</td>\n",
              "      <td>23869.0</td>\n",
              "      <td>MLP</td>\n",
              "      <td>sixth_session</td>\n",
              "    </tr>\n",
              "    <tr>\n",
              "      <th>16023</th>\n",
              "      <td>2018-12-30 21:00:00</td>\n",
              "      <td>30229.0</td>\n",
              "      <td>24788.0</td>\n",
              "      <td>MLP</td>\n",
              "      <td>sixth_session</td>\n",
              "    </tr>\n",
              "    <tr>\n",
              "      <th>16024</th>\n",
              "      <td>2018-12-30 22:00:00</td>\n",
              "      <td>29145.0</td>\n",
              "      <td>22673.0</td>\n",
              "      <td>MLP</td>\n",
              "      <td>sixth_session</td>\n",
              "    </tr>\n",
              "    <tr>\n",
              "      <th>16025</th>\n",
              "      <td>2018-12-30 23:00:00</td>\n",
              "      <td>26934.0</td>\n",
              "      <td>23677.0</td>\n",
              "      <td>MLP</td>\n",
              "      <td>sixth_session</td>\n",
              "    </tr>\n",
              "  </tbody>\n",
              "</table>\n",
              "<p>85876 rows × 5 columns</p>\n",
              "</div>"
            ],
            "text/plain": [
              "                     time  total_load_actual  prediction model     offer_type\n",
              "26232 2018-01-01 00:00:00            22779.0     24061.0   RFO   daily_market\n",
              "26233 2018-01-01 01:00:00            22009.0     22594.0   RFO   daily_market\n",
              "26234 2018-01-01 02:00:00            20589.0     21181.0   RFO   daily_market\n",
              "26235 2018-01-01 03:00:00            19547.0     21181.0   RFO   daily_market\n",
              "26236 2018-01-01 04:00:00            18871.0     21147.0   RFO   daily_market\n",
              "...                   ...                ...         ...   ...            ...\n",
              "16021 2018-12-30 19:00:00            29221.0     21697.0   MLP  sixth_session\n",
              "16022 2018-12-30 20:00:00            30042.0     23869.0   MLP  sixth_session\n",
              "16023 2018-12-30 21:00:00            30229.0     24788.0   MLP  sixth_session\n",
              "16024 2018-12-30 22:00:00            29145.0     22673.0   MLP  sixth_session\n",
              "16025 2018-12-30 23:00:00            26934.0     23677.0   MLP  sixth_session\n",
              "\n",
              "[85876 rows x 5 columns]"
            ]
          },
          "execution_count": 67,
          "metadata": {},
          "output_type": "execute_result"
        }
      ],
      "source": [
        "complete_results_df = pd.concat([\n",
        "    results_daily_market,\n",
        "    results_third_offer,\n",
        "    results_sixth_offer\n",
        "])\n",
        "complete_results_df"
      ]
    },
    {
      "cell_type": "code",
      "execution_count": 68,
      "id": "edc304e2",
      "metadata": {},
      "outputs": [],
      "source": [
        "complete_results_df.to_csv(\"results/results.csv\", index=False)"
      ]
    }
  ],
  "metadata": {
    "colab": {
      "provenance": []
    },
    "kernelspec": {
      "display_name": "Python 3 (ipykernel)",
      "language": "python",
      "name": "python3"
    },
    "language_info": {
      "codemirror_mode": {
        "name": "ipython",
        "version": 3
      },
      "file_extension": ".py",
      "mimetype": "text/x-python",
      "name": "python",
      "nbconvert_exporter": "python",
      "pygments_lexer": "ipython3",
      "version": "3.11.9"
    },
    "latex_envs": {
      "LaTeX_envs_menu_present": true,
      "autoclose": false,
      "autocomplete": true,
      "bibliofile": "biblio.bib",
      "cite_by": "apalike",
      "current_citInitial": 1,
      "eqLabelWithNumbers": true,
      "eqNumInitial": 1,
      "hotkeys": {
        "equation": "Ctrl-E",
        "itemize": "Ctrl-I"
      },
      "labels_anchors": false,
      "latex_user_defs": false,
      "report_style_numbering": false,
      "user_envs_cfg": false
    },
    "toc": {
      "base_numbering": 1,
      "nav_menu": {},
      "number_sections": true,
      "sideBar": true,
      "skip_h1_title": false,
      "title_cell": "Table of Contents",
      "title_sidebar": "Contents",
      "toc_cell": false,
      "toc_position": {},
      "toc_section_display": true,
      "toc_window_display": false
    }
  },
  "nbformat": 4,
  "nbformat_minor": 5
}
