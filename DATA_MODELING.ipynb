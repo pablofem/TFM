{
  "cells": [
    {
      "cell_type": "markdown",
      "id": "213c2c44",
      "metadata": {},
      "source": [
        "# **Preparación de datos previa a proceso de modelado**"
      ]
    },
    {
      "cell_type": "markdown",
      "id": "4ddfbeaa",
      "metadata": {},
      "source": [
        "## **Librerías**"
      ]
    },
    {
      "cell_type": "code",
      "execution_count": 1,
      "id": "e75c9547",
      "metadata": {},
      "outputs": [],
      "source": [
        "from modeling_auxiliary_functions import (apply_pca,\n",
        "                                          train_model, \n",
        "                                          split_train_test_date\n",
        "                                 )\n",
        "from modeling_auxiliary_functions import add_total_load\n",
        "\n",
        "import warnings\n",
        "import pandas as pd\n",
        "import datetime as dt\n",
        "import matplotlib.pyplot as plt"
      ]
    },
    {
      "cell_type": "code",
      "execution_count": 2,
      "id": "b630dcf0",
      "metadata": {},
      "outputs": [],
      "source": [
        "pd.set_option('display.max_columns', None)\n",
        "pd.set_option('display.max_rows', 10)\n",
        "warnings.filterwarnings('ignore')"
      ]
    },
    {
      "cell_type": "markdown",
      "id": "9163d7e7",
      "metadata": {},
      "source": [
        "## **Modelado predictivo**\n",
        "\n",
        "El objetivo es predecir las 24 horas de la demanda total de energía con una anticipación de 12,24 y 36 horas según las sesiones intradiarias del mercado eléctrico mayorista."
      ]
    },
    {
      "cell_type": "code",
      "execution_count": null,
      "id": "860eb77e",
      "metadata": {},
      "outputs": [],
      "source": [
        "basic_dataset = pd.read_pickle('./modeling_datasets/basic_dataset.pkl')"
      ]
    },
    {
      "cell_type": "code",
      "execution_count": 4,
      "id": "45154023",
      "metadata": {},
      "outputs": [],
      "source": [
        "offer_dataset = pd.read_pickle('./modeling_datasets/market_offer_dataset.pkl')\n",
        "offer_dataset = add_total_load(offer_dataset, basic_dataset)\n",
        "X_train, y_train, X_test, y_test = split_train_test_date(offer_dataset, \"total_load_actual\", dt.datetime(2018,1,1,0))"
      ]
    },
    {
      "cell_type": "code",
      "execution_count": 13,
      "id": "fcfac615",
      "metadata": {},
      "outputs": [
        {
          "data": {
            "text/html": [
              "<div>\n",
              "<style scoped>\n",
              "    .dataframe tbody tr th:only-of-type {\n",
              "        vertical-align: middle;\n",
              "    }\n",
              "\n",
              "    .dataframe tbody tr th {\n",
              "        vertical-align: top;\n",
              "    }\n",
              "\n",
              "    .dataframe thead th {\n",
              "        text-align: right;\n",
              "    }\n",
              "</style>\n",
              "<table border=\"1\" class=\"dataframe\">\n",
              "  <thead>\n",
              "    <tr style=\"text-align: right;\">\n",
              "      <th></th>\n",
              "      <th>components</th>\n",
              "      <th>accumulated_variance</th>\n",
              "    </tr>\n",
              "  </thead>\n",
              "  <tbody>\n",
              "    <tr>\n",
              "      <th>0</th>\n",
              "      <td>1</td>\n",
              "      <td>0.355424</td>\n",
              "    </tr>\n",
              "    <tr>\n",
              "      <th>1</th>\n",
              "      <td>2</td>\n",
              "      <td>0.643161</td>\n",
              "    </tr>\n",
              "    <tr>\n",
              "      <th>2</th>\n",
              "      <td>3</td>\n",
              "      <td>0.850071</td>\n",
              "    </tr>\n",
              "    <tr>\n",
              "      <th>3</th>\n",
              "      <td>4</td>\n",
              "      <td>0.918046</td>\n",
              "    </tr>\n",
              "    <tr>\n",
              "      <th>4</th>\n",
              "      <td>5</td>\n",
              "      <td>0.945260</td>\n",
              "    </tr>\n",
              "    <tr>\n",
              "      <th>5</th>\n",
              "      <td>6</td>\n",
              "      <td>0.966990</td>\n",
              "    </tr>\n",
              "    <tr>\n",
              "      <th>6</th>\n",
              "      <td>7</td>\n",
              "      <td>0.985653</td>\n",
              "    </tr>\n",
              "    <tr>\n",
              "      <th>7</th>\n",
              "      <td>8</td>\n",
              "      <td>1.000000</td>\n",
              "    </tr>\n",
              "  </tbody>\n",
              "</table>\n",
              "</div>"
            ],
            "text/plain": [
              "   components  accumulated_variance\n",
              "0           1              0.355424\n",
              "1           2              0.643161\n",
              "2           3              0.850071\n",
              "3           4              0.918046\n",
              "4           5              0.945260\n",
              "5           6              0.966990\n",
              "6           7              0.985653\n",
              "7           8              1.000000"
            ]
          },
          "execution_count": 13,
          "metadata": {},
          "output_type": "execute_result"
        }
      ],
      "source": [
        "min_variance = 0.95\n",
        "pca_summary, num_components, X_train, X_test = apply_pca(min_variance, X_train, X_test)\n",
        "pca_summary"
      ]
    },
    {
      "cell_type": "code",
      "execution_count": 8,
      "id": "fd24367d",
      "metadata": {},
      "outputs": [],
      "source": [
        "# rfo_model = train_model(X_train, y_train, \"randomForest\")"
      ]
    },
    {
      "cell_type": "code",
      "execution_count": 7,
      "id": "d233b6df",
      "metadata": {},
      "outputs": [
        {
          "name": "stdout",
          "output_type": "stream",
          "text": [
            "Fitting 3 folds for each of 27 candidates, totalling 81 fits\n"
          ]
        }
      ],
      "source": [
        "xgb_model = train_model(X_train, y_train, \"XGBoost\")"
      ]
    },
    {
      "cell_type": "code",
      "execution_count": 9,
      "id": "3df345d1",
      "metadata": {},
      "outputs": [],
      "source": [
        "# mlp_model = train_model(X_train, y_train, \"MLP\")"
      ]
    },
    {
      "cell_type": "code",
      "execution_count": null,
      "id": "1acdec98",
      "metadata": {},
      "outputs": [],
      "source": [
        "models_dic = {\n",
        "    \"randomForest\": rfo_model,\n",
        "    \"XGBoost\": xgb_model,\n",
        "    \"MLP\": mlp_model,\n",
        "}"
      ]
    },
    {
      "cell_type": "code",
      "execution_count": null,
      "id": "597b6022",
      "metadata": {},
      "outputs": [],
      "source": [
        "def prep_results_df(X_test, y_test, models_dic, offer_type):\n",
        "    tmp_df_list = []\n",
        "    for model_name, model_predictor in models_dic.items():\n",
        "        tmp_df = y_test.copy()\n",
        "        tmp_df[\"prediction\"] = model_predictor.predict(X_test).round(0)\n",
        "        tmp_df[\"model\"] = model_name\n",
        "        tmp_df[\"offer_type\"] = offer_type\n",
        "        tmp_df_list.append(tmp_df)\n",
        "\n",
        "    results_df = pd.concat(tmp_df_list)\n",
        "    return results_df"
      ]
    },
    {
      "cell_type": "code",
      "execution_count": 10,
      "id": "b3e584e5",
      "metadata": {},
      "outputs": [],
      "source": [
        "prep_results_df(X_test, y_test, models_dic, offer_type)"
      ]
    },
    {
      "cell_type": "code",
      "execution_count": 15,
      "id": "7832e37e",
      "metadata": {},
      "outputs": [
        {
          "ename": "ValueError",
          "evalue": "All arrays must be of the same length",
          "output_type": "error",
          "traceback": [
            "\u001b[0;31m---------------------------------------------------------------------------\u001b[0m",
            "\u001b[0;31mValueError\u001b[0m                                Traceback (most recent call last)",
            "Cell \u001b[0;32mIn[15], line 5\u001b[0m\n\u001b[1;32m      2\u001b[0m importances \u001b[38;5;241m=\u001b[39m xgb_model\u001b[38;5;241m.\u001b[39mfeature_importances_\n\u001b[1;32m      4\u001b[0m \u001b[38;5;66;03m# Create a DataFrame for feature importances\u001b[39;00m\n\u001b[0;32m----> 5\u001b[0m feature_importances_df \u001b[38;5;241m=\u001b[39m pd\u001b[38;5;241m.\u001b[39mDataFrame({\n\u001b[1;32m      6\u001b[0m     \u001b[38;5;124m'\u001b[39m\u001b[38;5;124mFeature\u001b[39m\u001b[38;5;124m'\u001b[39m: X_train\u001b[38;5;241m.\u001b[39mcolumns,\n\u001b[1;32m      7\u001b[0m     \u001b[38;5;124m'\u001b[39m\u001b[38;5;124mImportance\u001b[39m\u001b[38;5;124m'\u001b[39m: importances\n\u001b[1;32m      8\u001b[0m })\u001b[38;5;241m.\u001b[39msort_values(by\u001b[38;5;241m=\u001b[39m\u001b[38;5;124m'\u001b[39m\u001b[38;5;124mImportance\u001b[39m\u001b[38;5;124m'\u001b[39m, ascending\u001b[38;5;241m=\u001b[39m\u001b[38;5;28;01mFalse\u001b[39;00m)\n\u001b[1;32m     10\u001b[0m \u001b[38;5;66;03m# Plot feature importances\u001b[39;00m\n\u001b[1;32m     11\u001b[0m plt\u001b[38;5;241m.\u001b[39mfigure(figsize\u001b[38;5;241m=\u001b[39m(\u001b[38;5;241m10\u001b[39m, \u001b[38;5;241m6\u001b[39m))\n",
            "File \u001b[0;32m/opt/homebrew/anaconda3/lib/python3.11/site-packages/pandas/core/frame.py:709\u001b[0m, in \u001b[0;36mDataFrame.__init__\u001b[0;34m(self, data, index, columns, dtype, copy)\u001b[0m\n\u001b[1;32m    703\u001b[0m     mgr \u001b[38;5;241m=\u001b[39m \u001b[38;5;28mself\u001b[39m\u001b[38;5;241m.\u001b[39m_init_mgr(\n\u001b[1;32m    704\u001b[0m         data, axes\u001b[38;5;241m=\u001b[39m{\u001b[38;5;124m\"\u001b[39m\u001b[38;5;124mindex\u001b[39m\u001b[38;5;124m\"\u001b[39m: index, \u001b[38;5;124m\"\u001b[39m\u001b[38;5;124mcolumns\u001b[39m\u001b[38;5;124m\"\u001b[39m: columns}, dtype\u001b[38;5;241m=\u001b[39mdtype, copy\u001b[38;5;241m=\u001b[39mcopy\n\u001b[1;32m    705\u001b[0m     )\n\u001b[1;32m    707\u001b[0m \u001b[38;5;28;01melif\u001b[39;00m \u001b[38;5;28misinstance\u001b[39m(data, \u001b[38;5;28mdict\u001b[39m):\n\u001b[1;32m    708\u001b[0m     \u001b[38;5;66;03m# GH#38939 de facto copy defaults to False only in non-dict cases\u001b[39;00m\n\u001b[0;32m--> 709\u001b[0m     mgr \u001b[38;5;241m=\u001b[39m dict_to_mgr(data, index, columns, dtype\u001b[38;5;241m=\u001b[39mdtype, copy\u001b[38;5;241m=\u001b[39mcopy, typ\u001b[38;5;241m=\u001b[39mmanager)\n\u001b[1;32m    710\u001b[0m \u001b[38;5;28;01melif\u001b[39;00m \u001b[38;5;28misinstance\u001b[39m(data, ma\u001b[38;5;241m.\u001b[39mMaskedArray):\n\u001b[1;32m    711\u001b[0m     \u001b[38;5;28;01mfrom\u001b[39;00m \u001b[38;5;21;01mnumpy\u001b[39;00m\u001b[38;5;21;01m.\u001b[39;00m\u001b[38;5;21;01mma\u001b[39;00m \u001b[38;5;28;01mimport\u001b[39;00m mrecords\n",
            "File \u001b[0;32m/opt/homebrew/anaconda3/lib/python3.11/site-packages/pandas/core/internals/construction.py:481\u001b[0m, in \u001b[0;36mdict_to_mgr\u001b[0;34m(data, index, columns, dtype, typ, copy)\u001b[0m\n\u001b[1;32m    477\u001b[0m     \u001b[38;5;28;01melse\u001b[39;00m:\n\u001b[1;32m    478\u001b[0m         \u001b[38;5;66;03m# dtype check to exclude e.g. range objects, scalars\u001b[39;00m\n\u001b[1;32m    479\u001b[0m         arrays \u001b[38;5;241m=\u001b[39m [x\u001b[38;5;241m.\u001b[39mcopy() \u001b[38;5;28;01mif\u001b[39;00m \u001b[38;5;28mhasattr\u001b[39m(x, \u001b[38;5;124m\"\u001b[39m\u001b[38;5;124mdtype\u001b[39m\u001b[38;5;124m\"\u001b[39m) \u001b[38;5;28;01melse\u001b[39;00m x \u001b[38;5;28;01mfor\u001b[39;00m x \u001b[38;5;129;01min\u001b[39;00m arrays]\n\u001b[0;32m--> 481\u001b[0m \u001b[38;5;28;01mreturn\u001b[39;00m arrays_to_mgr(arrays, columns, index, dtype\u001b[38;5;241m=\u001b[39mdtype, typ\u001b[38;5;241m=\u001b[39mtyp, consolidate\u001b[38;5;241m=\u001b[39mcopy)\n",
            "File \u001b[0;32m/opt/homebrew/anaconda3/lib/python3.11/site-packages/pandas/core/internals/construction.py:115\u001b[0m, in \u001b[0;36marrays_to_mgr\u001b[0;34m(arrays, columns, index, dtype, verify_integrity, typ, consolidate)\u001b[0m\n\u001b[1;32m    112\u001b[0m \u001b[38;5;28;01mif\u001b[39;00m verify_integrity:\n\u001b[1;32m    113\u001b[0m     \u001b[38;5;66;03m# figure out the index, if necessary\u001b[39;00m\n\u001b[1;32m    114\u001b[0m     \u001b[38;5;28;01mif\u001b[39;00m index \u001b[38;5;129;01mis\u001b[39;00m \u001b[38;5;28;01mNone\u001b[39;00m:\n\u001b[0;32m--> 115\u001b[0m         index \u001b[38;5;241m=\u001b[39m _extract_index(arrays)\n\u001b[1;32m    116\u001b[0m     \u001b[38;5;28;01melse\u001b[39;00m:\n\u001b[1;32m    117\u001b[0m         index \u001b[38;5;241m=\u001b[39m ensure_index(index)\n",
            "File \u001b[0;32m/opt/homebrew/anaconda3/lib/python3.11/site-packages/pandas/core/internals/construction.py:655\u001b[0m, in \u001b[0;36m_extract_index\u001b[0;34m(data)\u001b[0m\n\u001b[1;32m    653\u001b[0m lengths \u001b[38;5;241m=\u001b[39m \u001b[38;5;28mlist\u001b[39m(\u001b[38;5;28mset\u001b[39m(raw_lengths))\n\u001b[1;32m    654\u001b[0m \u001b[38;5;28;01mif\u001b[39;00m \u001b[38;5;28mlen\u001b[39m(lengths) \u001b[38;5;241m>\u001b[39m \u001b[38;5;241m1\u001b[39m:\n\u001b[0;32m--> 655\u001b[0m     \u001b[38;5;28;01mraise\u001b[39;00m \u001b[38;5;167;01mValueError\u001b[39;00m(\u001b[38;5;124m\"\u001b[39m\u001b[38;5;124mAll arrays must be of the same length\u001b[39m\u001b[38;5;124m\"\u001b[39m)\n\u001b[1;32m    657\u001b[0m \u001b[38;5;28;01mif\u001b[39;00m have_dicts:\n\u001b[1;32m    658\u001b[0m     \u001b[38;5;28;01mraise\u001b[39;00m \u001b[38;5;167;01mValueError\u001b[39;00m(\n\u001b[1;32m    659\u001b[0m         \u001b[38;5;124m\"\u001b[39m\u001b[38;5;124mMixing dicts with non-Series may lead to ambiguous ordering.\u001b[39m\u001b[38;5;124m\"\u001b[39m\n\u001b[1;32m    660\u001b[0m     )\n",
            "\u001b[0;31mValueError\u001b[0m: All arrays must be of the same length"
          ]
        }
      ],
      "source": [
        "# Get feature importances\n",
        "importances = xgb_model.feature_importances_\n",
        "\n",
        "# Create a DataFrame for feature importances\n",
        "feature_importances_df = pd.DataFrame({\n",
        "    'Feature': X_train.columns,\n",
        "    'Importance': importances\n",
        "}).sort_values(by='Importance', ascending=False)\n",
        "\n",
        "# Plot feature importances\n",
        "plt.figure(figsize=(10, 6))\n",
        "plt.barh(feature_importances_df['Feature'], feature_importances_df['Importance'])\n",
        "plt.xlabel('Importance')\n",
        "plt.title('Feature Importances')\n",
        "plt.gca().invert_yaxis()\n",
        "plt.grid()\n",
        "plt.show()"
      ]
    },
    {
      "cell_type": "code",
      "execution_count": null,
      "id": "4179aef6",
      "metadata": {},
      "outputs": [],
      "source": [
        "import scipy.stats as stats\n",
        "\n",
        "def check_gaussian_distribution(data):\n",
        "\n",
        "    # Shapiro-Wilk Test\n",
        "    shapiro_test = stats.shapiro(data)\n",
        "\n",
        "    # D'Agostino's K-squared Test\n",
        "    k2_test = stats.normaltest(data)\n",
        "\n",
        "    # Conclusion based on p-values\n",
        "    alpha = 0.05\n",
        "    if shapiro_test.pvalue > alpha and k2_test.pvalue > alpha:\n",
        "        print(f\"Los residuos forman una distribución Gaussiana (fail to reject H0).\")\n",
        "    else:\n",
        "        print(f\"Los residuos no forman una distribución Gaussiana (reject H0).\")\n",
        "\n",
        "    # Kurtosis\n",
        "    kurtosis = stats.kurtosis(data, fisher=True)\n",
        "    print(f\"Curtosis: {kurtosis}\")\n",
        "    \n",
        "    if kurtosis > 0:\n",
        "        print(\"La distribución es leptocúrtica\")\n",
        "    elif kurtosis < 0:\n",
        "        print(\"La distribución es platicúrtica\")\n",
        "    else:\n",
        "        print(\"La distribución tiene una kurtosis normal (mesocúrtica).\")\n"
      ]
    },
    {
      "cell_type": "code",
      "execution_count": null,
      "id": "01813a55",
      "metadata": {},
      "outputs": [],
      "source": [
        "def calc_metrics(test_data):\n",
        "\n",
        "    test_data[\"pred_dif\"] = (test_data[\"pred\"] - test_data[\"total_load_actual\"])\n",
        "    test_data[\"pred_dif_abs\"] = test_data[\"pred_dif\"].abs()\n",
        "\n",
        "    mae = test_data[\"pred_dif_abs\"].mean()\n",
        "    mape = (test_data[\"pred_dif_abs\"]/test_data[\"total_load_actual\"]).abs().mean()*100\n",
        "\n",
        "    mdae = test_data[\"pred_dif_abs\"].abs().median()\n",
        "    mdape = (test_data[\"pred_dif_abs\"]/test_data[\"total_load_actual\"]).abs().median()*100\n",
        "\n",
        "    dicc = {\"metrics\":[\"MAE (MW)\", \"MAPE (%)\", \"MDAE (MW)\", \"MDAPE (%)\"],\n",
        "            \"values\":[round(mae,0), round(mape,2), round(mdae,0), round(mdape,2),]}\n",
        "\n",
        "    plt.figure(figsize=(10, 4))\n",
        "    plt.hist(test_data[\"pred_dif\"], bins=50)\n",
        "    plt.grid()\n",
        "\n",
        "    metrics_df = pd.DataFrame(dicc)\n",
        "\n",
        "    check_gaussian_distribution(test_data[\"pred_dif\"])\n",
        "\n",
        "    return metrics_df"
      ]
    }
  ],
  "metadata": {
    "colab": {
      "provenance": []
    },
    "kernelspec": {
      "display_name": "Python 3 (ipykernel)",
      "language": "python",
      "name": "python3"
    },
    "language_info": {
      "codemirror_mode": {
        "name": "ipython",
        "version": 3
      },
      "file_extension": ".py",
      "mimetype": "text/x-python",
      "name": "python",
      "nbconvert_exporter": "python",
      "pygments_lexer": "ipython3",
      "version": "3.11.5"
    },
    "latex_envs": {
      "LaTeX_envs_menu_present": true,
      "autoclose": false,
      "autocomplete": true,
      "bibliofile": "biblio.bib",
      "cite_by": "apalike",
      "current_citInitial": 1,
      "eqLabelWithNumbers": true,
      "eqNumInitial": 1,
      "hotkeys": {
        "equation": "Ctrl-E",
        "itemize": "Ctrl-I"
      },
      "labels_anchors": false,
      "latex_user_defs": false,
      "report_style_numbering": false,
      "user_envs_cfg": false
    },
    "toc": {
      "base_numbering": 1,
      "nav_menu": {},
      "number_sections": true,
      "sideBar": true,
      "skip_h1_title": false,
      "title_cell": "Table of Contents",
      "title_sidebar": "Contents",
      "toc_cell": false,
      "toc_position": {},
      "toc_section_display": true,
      "toc_window_display": false
    }
  },
  "nbformat": 4,
  "nbformat_minor": 5
}
